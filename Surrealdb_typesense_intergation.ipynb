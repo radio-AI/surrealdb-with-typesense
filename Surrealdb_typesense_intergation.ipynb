{
 "cells": [
  {
   "cell_type": "markdown",
   "id": "8b4fa1ee-aec4-4a26-9635-48780da0fa02",
   "metadata": {},
   "source": [
    "# Conneting with SurrealDB"
   ]
  },
  {
   "cell_type": "code",
   "execution_count": 2,
   "id": "85f53fea-95ce-4938-bb1f-493320371f3c",
   "metadata": {},
   "outputs": [
    {
     "name": "stdout",
     "output_type": "stream",
     "text": [
      "Connected to SurrealDB\n"
     ]
    }
   ],
   "source": [
    "from surrealdb import Surreal\n",
    "\n",
    "async def connect_to_db():\n",
    "    # Connect to SurrealDB running on localhost\n",
    "    db = Surreal(\"ws://localhost:8000/rpc\")\n",
    "    # db =\"ws://localhost:8000/rpc\"\n",
    "    await db.connect()\n",
    "    # Use your namespace and database\n",
    "    await db.signin({\"user\": \"root\", \"pass\": \"root\"})  # Default credentials\n",
    "    await db.use(\"test_namespace\", \"test_database\")\n",
    "    return db\n",
    "\n",
    "# Connect and check the connection\n",
    "db = await connect_to_db()\n",
    "print(\"Connected to SurrealDB\")\n"
   ]
  },
  {
   "cell_type": "markdown",
   "id": "c8dfd8c0-0bca-442e-a93e-b821096a5881",
   "metadata": {},
   "source": [
    "# Installing Typesense"
   ]
  },
  {
   "cell_type": "code",
   "execution_count": null,
   "id": "e1c38069-2a9c-4841-b1f3-29747624f88d",
   "metadata": {},
   "outputs": [],
   "source": [
    "pip install typesense"
   ]
  },
  {
   "cell_type": "code",
   "execution_count": 6,
   "id": "6f569ad4-bf8c-483e-8cd0-7057bebd2b47",
   "metadata": {},
   "outputs": [],
   "source": [
    "import typesense\n",
    "\n",
    "client = typesense.Client({\n",
    "  'nodes': [{\n",
    "    'host': 'z6jqcbve7pn3m9r1p-1.a1.typesense.net', # For Typesense Cloud use xxx.a1.typesense.net\n",
    "    'port': '443',      # For Typesense Cloud use 443\n",
    "    'protocol': 'https'   # For Typesense Cloud use https\n",
    "  }],\n",
    "  'api_key': 'Q96xfhwdlvRfyAaPqfQee7INNaqCh56c',\n",
    "  'connection_timeout_seconds': 2\n",
    "})\n"
   ]
  },
  {
   "cell_type": "markdown",
   "id": "8acb0857-18e7-4fbf-b84e-a122c5e45e57",
   "metadata": {},
   "source": [
    "# Connecting Surrealdb with typesense"
   ]
  },
  {
   "cell_type": "code",
   "execution_count": 8,
   "id": "8b15c119-5312-4125-bccc-42c7535c4d6a",
   "metadata": {},
   "outputs": [],
   "source": [
    "# Fetch products from SurrealDB\n",
    "async def fetch_products_from_surrealdb(db):\n",
    "    try:\n",
    "        products = await db.query(\"SELECT * FROM product;\")\n",
    "        if products:\n",
    "            return products[0]['result']  # Extract the actual products from query result\n",
    "        else:\n",
    "            raise ValueError(\"No products found in SurrealDB.\")\n",
    "    except Exception as e:\n",
    "        print(f\"Error fetching products from SurrealDB: {e}\")\n",
    "        return []\n",
    "\n"
   ]
  },
  {
   "cell_type": "code",
   "execution_count": 18,
   "id": "48794329-a69e-47de-8d5a-d1bed9cfc329",
   "metadata": {},
   "outputs": [],
   "source": [
    "# Index data into Typesense\n",
    "def index_products_to_typesense(products):\n",
    "    try:\n",
    "        documents = [\n",
    "            {\n",
    "                \"id\": product['id'],\n",
    "                \"name\": product['name'],\n",
    "                \"category\": product['category'],\n",
    "                \"price\": product['price'],\n",
    "                \"description\": product['description']\n",
    "            }\n",
    "            for product in products\n",
    "        ]\n",
    "\n",
    "        # Index data into Typesense\n",
    "        client.collections['products'].documents.import_(documents, {'action': 'upsert'})\n",
    "        print(\"Products indexed successfully in Typesense.\")\n",
    "    except Exception as e:\n",
    "        print(f\"Error indexing products to Typesense: {e}\")\n",
    "\n"
   ]
  },
  {
   "cell_type": "code",
   "execution_count": 16,
   "id": "aefddb12-e8e0-4207-837d-13c476a07af2",
   "metadata": {},
   "outputs": [
    {
     "name": "stdout",
     "output_type": "stream",
     "text": [
      "Products indexed successfully in Typesense.\n"
     ]
    }
   ],
   "source": [
    "# Main function to fetch data from SurrealDB and index to Typesense\n",
    "async def sync_surrealdb_to_typesense(db):\n",
    "    products = await fetch_products_from_surrealdb(db)\n",
    "    if products:\n",
    "        index_products_to_typesense(products)\n",
    "\n",
    "# Call the sync function\n",
    "await sync_surrealdb_to_typesense(db)"
   ]
  },
  {
   "cell_type": "markdown",
   "id": "5a970411-f6d7-48fa-aa22-88bb12647b71",
   "metadata": {},
   "source": [
    "# searching for required products through typesense\n",
    "## make sure all products in surrealdb are correctly synced with typesense"
   ]
  },
  {
   "cell_type": "code",
   "execution_count": 20,
   "id": "2300185a-a45d-489d-b89a-e87337c93a00",
   "metadata": {},
   "outputs": [
    {
     "name": "stdout",
     "output_type": "stream",
     "text": [
      "{'facet_counts': [], 'found': 6, 'hits': [{'document': {'category': 'Gaming', 'description': 'High precision gaming mouse with customizable RGB lighting.', 'id': 'product:product_014', 'name': 'Gaming Mouse', 'price': 59.99}, 'highlight': {'description': {'matched_tokens': ['gaming'], 'snippet': 'High precision <mark>gaming</mark> mouse with customizable RGB lighting.'}, 'name': {'matched_tokens': ['Gaming'], 'snippet': '<mark>Gaming</mark> Mouse'}}, 'highlights': [{'field': 'name', 'matched_tokens': ['Gaming'], 'snippet': '<mark>Gaming</mark> Mouse'}, {'field': 'description', 'matched_tokens': ['gaming'], 'snippet': 'High precision <mark>gaming</mark> mouse with customizable RGB lighting.'}], 'text_match': 578730123365187706, 'text_match_info': {'best_field_score': '1108091338752', 'best_field_weight': 15, 'fields_matched': 2, 'num_tokens_dropped': 0, 'score': '578730123365187706', 'tokens_matched': 1, 'typo_prefix_score': 0}}, {'document': {'category': 'Gaming', 'description': 'High-quality gaming headset with surround sound.', 'id': 'product:product_005', 'name': 'Gaming Headset', 'price': 59.99}, 'highlight': {'description': {'matched_tokens': ['gaming'], 'snippet': 'High-quality <mark>gaming</mark> headset with surround sound.'}, 'name': {'matched_tokens': ['Gaming'], 'snippet': '<mark>Gaming</mark> Headset'}}, 'highlights': [{'field': 'name', 'matched_tokens': ['Gaming'], 'snippet': '<mark>Gaming</mark> Headset'}, {'field': 'description', 'matched_tokens': ['gaming'], 'snippet': 'High-quality <mark>gaming</mark> headset with surround sound.'}], 'text_match': 578730123365187706, 'text_match_info': {'best_field_score': '1108091338752', 'best_field_weight': 15, 'fields_matched': 2, 'num_tokens_dropped': 0, 'score': '578730123365187706', 'tokens_matched': 1, 'typo_prefix_score': 0}}, {'document': {'category': 'Gaming', 'description': 'Mechanical gaming keyboard with customizable macros and RGB lighting.', 'id': 'product:product_016', 'name': 'Gaming Keyboard', 'price': 79.99}, 'highlight': {'description': {'matched_tokens': ['gaming'], 'snippet': 'Mechanical <mark>gaming</mark> keyboard with customizable macros and RGB lighting.'}, 'name': {'matched_tokens': ['Gaming'], 'snippet': '<mark>Gaming</mark> Keyboard'}}, 'highlights': [{'field': 'name', 'matched_tokens': ['Gaming'], 'snippet': '<mark>Gaming</mark> Keyboard'}, {'field': 'description', 'matched_tokens': ['gaming'], 'snippet': 'Mechanical <mark>gaming</mark> keyboard with customizable macros and RGB lighting.'}], 'text_match': 578730123365187706, 'text_match_info': {'best_field_score': '1108091338752', 'best_field_weight': 15, 'fields_matched': 2, 'num_tokens_dropped': 0, 'score': '578730123365187706', 'tokens_matched': 1, 'typo_prefix_score': 0}}, {'document': {'category': 'Gaming', 'description': 'Wireless gaming headset with surround sound and noise cancellation.', 'id': 'product:product_015', 'name': 'Gaming Headset', 'price': 89.99}, 'highlight': {'description': {'matched_tokens': ['gaming'], 'snippet': 'Wireless <mark>gaming</mark> headset with surround sound and noise cancellation.'}, 'name': {'matched_tokens': ['Gaming'], 'snippet': '<mark>Gaming</mark> Headset'}}, 'highlights': [{'field': 'name', 'matched_tokens': ['Gaming'], 'snippet': '<mark>Gaming</mark> Headset'}, {'field': 'description', 'matched_tokens': ['gaming'], 'snippet': 'Wireless <mark>gaming</mark> headset with surround sound and noise cancellation.'}], 'text_match': 578730123365187706, 'text_match_info': {'best_field_score': '1108091338752', 'best_field_weight': 15, 'fields_matched': 2, 'num_tokens_dropped': 0, 'score': '578730123365187706', 'tokens_matched': 1, 'typo_prefix_score': 0}}, {'document': {'category': 'Gaming', 'description': 'Ergonomic gaming chair for long hours of comfort.', 'id': 'product:product_017', 'name': 'Gaming Chair', 'price': 199.99}, 'highlight': {'description': {'matched_tokens': ['gaming'], 'snippet': 'Ergonomic <mark>gaming</mark> chair for long hours of comfort.'}, 'name': {'matched_tokens': ['Gaming'], 'snippet': '<mark>Gaming</mark> Chair'}}, 'highlights': [{'field': 'name', 'matched_tokens': ['Gaming'], 'snippet': '<mark>Gaming</mark> Chair'}, {'field': 'description', 'matched_tokens': ['gaming'], 'snippet': 'Ergonomic <mark>gaming</mark> chair for long hours of comfort.'}], 'text_match': 578730123365187706, 'text_match_info': {'best_field_score': '1108091338752', 'best_field_weight': 15, 'fields_matched': 2, 'num_tokens_dropped': 0, 'score': '578730123365187706', 'tokens_matched': 1, 'typo_prefix_score': 0}}, {'document': {'category': 'Gaming', 'description': 'Virtual reality headset for immersive gaming experience.', 'id': 'product:product_018', 'name': 'VR Headset', 'price': 299.99}, 'highlight': {'description': {'matched_tokens': ['gaming'], 'snippet': 'Virtual reality headset for immersive <mark>gaming</mark> experience.'}}, 'highlights': [{'field': 'description', 'matched_tokens': ['gaming'], 'snippet': 'Virtual reality headset for immersive <mark>gaming</mark> experience.'}], 'text_match': 578730123365187697, 'text_match_info': {'best_field_score': '1108091338752', 'best_field_weight': 14, 'fields_matched': 1, 'num_tokens_dropped': 0, 'score': '578730123365187697', 'tokens_matched': 1, 'typo_prefix_score': 0}}], 'out_of': 24, 'page': 1, 'request_params': {'collection_name': 'products', 'first_q': 'gaming', 'per_page': 10, 'q': 'Gaming'}, 'search_cutoff': False, 'search_time_ms': 0}\n"
     ]
    }
   ],
   "source": [
    "# Define search parameters to find products similar to 'Gaming Headset'\n",
    "search_parameters = {\n",
    "  'q'        : 'Gaming',\n",
    "  'query_by' : 'name, description',\n",
    "  'filter_by': 'category:=Gaming',\n",
    "  'sort_by'  : 'price:asc'\n",
    "}\n",
    "\n",
    "# Perform the search\n",
    "search_results = client.collections['products'].documents.search(search_parameters)\n",
    "print(search_results)\n"
   ]
  },
  {
   "cell_type": "code",
   "execution_count": 22,
   "id": "8c426bc9-851a-45b2-80ed-b649ec881547",
   "metadata": {},
   "outputs": [
    {
     "name": "stdout",
     "output_type": "stream",
     "text": [
      "{'facet_counts': [], 'found': 3, 'hits': [{'document': {'category': 'Office', 'description': 'Adjustable standing desk to improve posture and reduce fatigue.', 'id': 'product:product_021', 'name': 'Standing Desk', 'price': 299.99}, 'highlight': {'category': {'matched_tokens': ['Office'], 'snippet': '<mark>Office</mark>'}}, 'highlights': [{'field': 'category', 'matched_tokens': ['Office'], 'snippet': '<mark>Office</mark>'}], 'text_match': 578730123365711993, 'text_match_info': {'best_field_score': '1108091339008', 'best_field_weight': 15, 'fields_matched': 1, 'num_tokens_dropped': 0, 'score': '578730123365711993', 'tokens_matched': 1, 'typo_prefix_score': 0}}, {'document': {'category': 'Office', 'description': 'Compact wireless printer for home or office use.', 'id': 'product:product_020', 'name': 'Wireless Printer', 'price': 149.99}, 'highlight': {'category': {'matched_tokens': ['Office'], 'snippet': '<mark>Office</mark>'}}, 'highlights': [{'field': 'category', 'matched_tokens': ['Office'], 'snippet': '<mark>Office</mark>'}], 'text_match': 578730123365711993, 'text_match_info': {'best_field_score': '1108091339008', 'best_field_weight': 15, 'fields_matched': 1, 'num_tokens_dropped': 0, 'score': '578730123365711993', 'tokens_matched': 1, 'typo_prefix_score': 0}}, {'document': {'category': 'Office', 'description': 'Ergonomic office chair for maximum comfort during work hours.', 'id': 'product:product_019', 'name': 'Office Chair', 'price': 129.99}, 'highlight': {'category': {'matched_tokens': ['Office'], 'snippet': '<mark>Office</mark>'}}, 'highlights': [{'field': 'category', 'matched_tokens': ['Office'], 'snippet': '<mark>Office</mark>'}], 'text_match': 578730123365711993, 'text_match_info': {'best_field_score': '1108091339008', 'best_field_weight': 15, 'fields_matched': 1, 'num_tokens_dropped': 0, 'score': '578730123365711993', 'tokens_matched': 1, 'typo_prefix_score': 0}}], 'out_of': 24, 'page': 1, 'request_params': {'collection_name': 'products', 'first_q': 'office', 'per_page': 10, 'q': 'Office'}, 'search_cutoff': False, 'search_time_ms': 0}\n"
     ]
    }
   ],
   "source": [
    "# Define search parameters to find products in the Electronics category\n",
    "search_parameters = {\n",
    "  'q'        : 'Office',       # Search term\n",
    "  'query_by' : 'category',          # Search within the 'category' field\n",
    "  'filter_by': 'category:=Office',  # Filter to only include products in the Electronics category\n",
    "  'sort_by'  : 'price:desc'         # Sort by price, descending (most expensive first)\n",
    "}\n",
    "\n",
    "# Perform the search in Typesense\n",
    "search_results = client.collections['products'].documents.search(search_parameters)\n",
    "print(search_results)\n"
   ]
  },
  {
   "cell_type": "code",
   "execution_count": 34,
   "id": "a1126b41-1695-4386-90df-bb109c8c0da9",
   "metadata": {},
   "outputs": [
    {
     "name": "stdout",
     "output_type": "stream",
     "text": [
      "{'facet_counts': [], 'found': 6, 'hits': [{'document': {'category': 'Electronics', 'description': '5000mAh portable charger with dual USB output.', 'id': 'product:product_007', 'name': 'Portable Charger', 'price': 25.99}, 'highlight': {'category': {'matched_tokens': ['Electronics'], 'snippet': '<mark>Electronics</mark>'}}, 'highlights': [{'field': 'category', 'matched_tokens': ['Electronics'], 'snippet': '<mark>Electronics</mark>'}], 'text_match': 578730123365711993, 'text_match_info': {'best_field_score': '1108091339008', 'best_field_weight': 15, 'fields_matched': 1, 'num_tokens_dropped': 0, 'score': '578730123365711993', 'tokens_matched': 1, 'typo_prefix_score': 0}}, {'document': {'category': 'Electronics', 'description': 'Multi-port USB-C hub with HDMI and USB 3.0.', 'id': 'product:product_004', 'name': 'USB-C Hub', 'price': 34.99}, 'highlight': {'category': {'matched_tokens': ['Electronics'], 'snippet': '<mark>Electronics</mark>'}}, 'highlights': [{'field': 'category', 'matched_tokens': ['Electronics'], 'snippet': '<mark>Electronics</mark>'}], 'text_match': 578730123365711993, 'text_match_info': {'best_field_score': '1108091339008', 'best_field_weight': 15, 'fields_matched': 1, 'num_tokens_dropped': 0, 'score': '578730123365711993', 'tokens_matched': 1, 'typo_prefix_score': 0}}, {'document': {'category': 'Electronics', 'description': 'A sleek wireless keyboard with long battery life.', 'id': 'product:product_002', 'name': 'Wireless keyboard', 'price': 39.99}, 'highlight': {'category': {'matched_tokens': ['Electronics'], 'snippet': '<mark>Electronics</mark>'}}, 'highlights': [{'field': 'category', 'matched_tokens': ['Electronics'], 'snippet': '<mark>Electronics</mark>'}], 'text_match': 578730123365711993, 'text_match_info': {'best_field_score': '1108091339008', 'best_field_weight': 15, 'fields_matched': 1, 'num_tokens_dropped': 0, 'score': '578730123365711993', 'tokens_matched': 1, 'typo_prefix_score': 0}}, {'document': {'category': 'Electronics', 'description': '55 inches TV with 4K resolution', 'id': 'product:product_001', 'name': 'TV', 'price': 100.0}, 'highlight': {'category': {'matched_tokens': ['Electronics'], 'snippet': '<mark>Electronics</mark>'}}, 'highlights': [{'field': 'category', 'matched_tokens': ['Electronics'], 'snippet': '<mark>Electronics</mark>'}], 'text_match': 578730123365711993, 'text_match_info': {'best_field_score': '1108091339008', 'best_field_weight': 15, 'fields_matched': 1, 'num_tokens_dropped': 0, 'score': '578730123365711993', 'tokens_matched': 1, 'typo_prefix_score': 0}}, {'document': {'category': 'Electronics', 'description': '55 inches TV with 4K resolution', 'id': 'product_001', 'name': 'TV', 'price': 100.0}, 'highlight': {'category': {'matched_tokens': ['Electronics'], 'snippet': '<mark>Electronics</mark>'}}, 'highlights': [{'field': 'category', 'matched_tokens': ['Electronics'], 'snippet': '<mark>Electronics</mark>'}], 'text_match': 578730123365711993, 'text_match_info': {'best_field_score': '1108091339008', 'best_field_weight': 15, 'fields_matched': 1, 'num_tokens_dropped': 0, 'score': '578730123365711993', 'tokens_matched': 1, 'typo_prefix_score': 0}}, {'document': {'category': 'Electronics', 'description': '27-inch 4K monitor with HDR and adjustable stand.', 'id': 'product:product_012', 'name': '4K Monitor', 'price': 299.99}, 'highlight': {'category': {'matched_tokens': ['Electronics'], 'snippet': '<mark>Electronics</mark>'}}, 'highlights': [{'field': 'category', 'matched_tokens': ['Electronics'], 'snippet': '<mark>Electronics</mark>'}], 'text_match': 578730123365711993, 'text_match_info': {'best_field_score': '1108091339008', 'best_field_weight': 15, 'fields_matched': 1, 'num_tokens_dropped': 0, 'score': '578730123365711993', 'tokens_matched': 1, 'typo_prefix_score': 0}}], 'out_of': 24, 'page': 1, 'request_params': {'collection_name': 'products', 'first_q': 'electronics', 'per_page': 10, 'q': 'Electronics'}, 'search_cutoff': False, 'search_time_ms': 0}\n"
     ]
    }
   ],
   "source": [
    "# Define search parameters with filter and sort\n",
    "search_parameters = {\n",
    "    'q'         : 'Electronics',                # Search term\n",
    "    'query_by'  : 'category',          # Fields to search within\n",
    "    'filter_by' : 'category:=Electronics',  # Filters\n",
    "    'sort_by'   : 'price:asc'                   # Sorting\n",
    "}\n",
    "\n",
    "# Perform the search\n",
    "search_results = client.collections['products'].documents.search(search_parameters)\n",
    "print(search_results)\n"
   ]
  },
  {
   "cell_type": "code",
   "execution_count": null,
   "id": "57af1fbe-d12f-474a-b5a3-1ac10fddf507",
   "metadata": {},
   "outputs": [],
   "source": []
  }
 ],
 "metadata": {
  "kernelspec": {
   "display_name": "Python 3 (ipykernel)",
   "language": "python",
   "name": "python3"
  },
  "language_info": {
   "codemirror_mode": {
    "name": "ipython",
    "version": 3
   },
   "file_extension": ".py",
   "mimetype": "text/x-python",
   "name": "python",
   "nbconvert_exporter": "python",
   "pygments_lexer": "ipython3",
   "version": "3.12.4"
  }
 },
 "nbformat": 4,
 "nbformat_minor": 5
}
